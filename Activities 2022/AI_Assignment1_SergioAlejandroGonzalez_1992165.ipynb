{
  "nbformat": 4,
  "nbformat_minor": 0,
  "metadata": {
    "colab": {
      "provenance": [],
      "collapsed_sections": [],
      "authorship_tag": "ABX9TyOSeQ3bc2pJtX4rJAsk5UcB",
      "include_colab_link": true
    },
    "kernelspec": {
      "name": "python3",
      "display_name": "Python 3"
    },
    "language_info": {
      "name": "python"
    }
  },
  "cells": [
    {
      "cell_type": "markdown",
      "metadata": {
        "id": "view-in-github",
        "colab_type": "text"
      },
      "source": [
        "<a href=\"https://colab.research.google.com/github/Sergio432/IA-s-IB-2022-ordinary-class/blob/main/AI_Assignment1_SergioAlejandroGonzalez_1992165.ipynb\" target=\"_parent\"><img src=\"https://colab.research.google.com/assets/colab-badge.svg\" alt=\"Open In Colab\"/></a>"
      ]
    },
    {
      "cell_type": "markdown",
      "source": [
        "# **A2: Python exercises:**\n",
        "\n",
        "### **Sergio Alejandro González Garcia**          \n",
        "### **Exp: 1992165**          \n",
        "###**IA's for IB Tuesday N4-N6**\n"
      ],
      "metadata": {
        "id": "4-9exr5X7WFa"
      }
    },
    {
      "cell_type": "markdown",
      "source": [
        "1-Create a python script where the user is going to be asked for the name. After that, the program will greet the user with the given name. Only exception: the script will not greet the user if the given name is \"Ana\", \"John\" or \"Peter\"."
      ],
      "metadata": {
        "id": "wrkTWsVzCI9J"
      }
    },
    {
      "cell_type": "code",
      "execution_count": 1,
      "metadata": {
        "colab": {
          "base_uri": "https://localhost:8080/"
        },
        "id": "6M6Vxanh6j2q",
        "outputId": "776c14cd-86e7-43a5-879d-81f3fa7d2a9d"
      },
      "outputs": [
        {
          "output_type": "stream",
          "name": "stdout",
          "text": [
            "Enter your name: Sergio\n",
            "Hello Sergio!\n"
          ]
        }
      ],
      "source": [
        "name= input(\"Enter your name: \")\n",
        "\n",
        "if ((name!=\"Ana\" ) & (name!=\"Peter\") & (name!= \"John\")):\n",
        "  print(\"Hello \"+ name + \"!\")"
      ]
    },
    {
      "cell_type": "markdown",
      "source": [
        "2-Create a function in a pyhton script that returns (print) the last element of a given list, reverts the order of the list and finally returns (print) the reverted list. "
      ],
      "metadata": {
        "id": "9BTAuBfLH0P0"
      }
    },
    {
      "cell_type": "code",
      "source": [
        "list1=[1,2,3,4,5,6,7,8,9,10,11,12,13,14,15,16,17,18,19,20]\n",
        "print(\"The last element of the list is: \")\n",
        "print(list1[-1])\n",
        "list2 = list1.copy()\n",
        "list2.reverse()\n",
        "print(\"The list in reverse is:\")\n",
        "print(list2)\n"
      ],
      "metadata": {
        "colab": {
          "base_uri": "https://localhost:8080/"
        },
        "id": "D-gBOkAEGmcq",
        "outputId": "1c8cd6d9-67cd-4655-b5d9-26d690972b3b"
      },
      "execution_count": 2,
      "outputs": [
        {
          "output_type": "stream",
          "name": "stdout",
          "text": [
            "The last element of the list is: \n",
            "20\n",
            "The list in reverse is:\n",
            "[20, 19, 18, 17, 16, 15, 14, 13, 12, 11, 10, 9, 8, 7, 6, 5, 4, 3, 2, 1]\n"
          ]
        }
      ]
    },
    {
      "cell_type": "markdown",
      "source": [
        "3-Create a function in a python script that takes a list of strings as input and then it prints, line by line, the whole list in a rectangular shape. E.g., the list could be [\"Hi\", \"my\", \"name\", \"is\", \"John\", \"Doe\"]"
      ],
      "metadata": {
        "id": "JgWufFLwfyVO"
      }
    },
    {
      "cell_type": "code",
      "source": [
        "def print_in_rectagle_frame(*words):\n",
        "  size = max(len(word) for word in words)\n",
        "  print('*' * (size + 4))\n",
        "  for word in words:\n",
        "    print('* {:<{}} *'.format(word,size))\n",
        "  print('*'*(size + 4))\n",
        "\n",
        "print_in_rectagle_frame(\"Hellow\",\".\",\".\",\"This\",\"is\",\"a\",\"list\",\"in\",\"a\",\"frame\")"
      ],
      "metadata": {
        "colab": {
          "base_uri": "https://localhost:8080/"
        },
        "id": "J4stSJTbgdN0",
        "outputId": "5e4dba48-d6a8-493f-f685-df19363a3bfa"
      },
      "execution_count": 3,
      "outputs": [
        {
          "output_type": "stream",
          "name": "stdout",
          "text": [
            "**********\n",
            "* Hellow *\n",
            "* .      *\n",
            "* .      *\n",
            "* This   *\n",
            "* is     *\n",
            "* a      *\n",
            "* list   *\n",
            "* in     *\n",
            "* a      *\n",
            "* frame  *\n",
            "**********\n"
          ]
        }
      ]
    }
  ]
}